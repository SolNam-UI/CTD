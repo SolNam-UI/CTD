{
  "nbformat": 4,
  "nbformat_minor": 0,
  "metadata": {
    "colab": {
      "provenance": [],
      "include_colab_link": true
    },
    "kernelspec": {
      "name": "python3",
      "display_name": "Python 3"
    },
    "language_info": {
      "name": "python"
    }
  },
  "cells": [
    {
      "cell_type": "markdown",
      "metadata": {
        "id": "view-in-github",
        "colab_type": "text"
      },
      "source": [
        "<a href=\"https://colab.research.google.com/github/SolNam-UI/CTD/blob/main/Project.ipynb\" target=\"_parent\"><img src=\"https://colab.research.google.com/assets/colab-badge.svg\" alt=\"Open In Colab\"/></a>"
      ]
    },
    {
      "cell_type": "markdown",
      "source": [
        "import 하는 곳"
      ],
      "metadata": {
        "id": "bqtNuzbD1_c7"
      }
    },
    {
      "cell_type": "code",
      "execution_count": 2,
      "metadata": {
        "id": "1JHqfNoZ69AX",
        "colab": {
          "base_uri": "https://localhost:8080/"
        },
        "outputId": "1d3bb53e-1f6e-4e8c-9b1b-e5ef477ee489",
        "collapsed": true
      },
      "outputs": [
        {
          "output_type": "stream",
          "name": "stdout",
          "text": [
            "Collecting quickdraw\n",
            "  Downloading quickdraw-1.0.0-py3-none-any.whl.metadata (1.3 kB)\n",
            "Requirement already satisfied: tensorflow in /usr/local/lib/python3.11/dist-packages (2.18.0)\n",
            "Collecting ColabTurtle\n",
            "  Downloading ColabTurtle-2.1.0.tar.gz (6.8 kB)\n",
            "  Preparing metadata (setup.py) ... \u001b[?25l\u001b[?25hdone\n",
            "Requirement already satisfied: Pillow in /usr/local/lib/python3.11/dist-packages (11.2.1)\n",
            "Requirement already satisfied: requests in /usr/local/lib/python3.11/dist-packages (from quickdraw) (2.32.3)\n",
            "Requirement already satisfied: absl-py>=1.0.0 in /usr/local/lib/python3.11/dist-packages (from tensorflow) (1.4.0)\n",
            "Requirement already satisfied: astunparse>=1.6.0 in /usr/local/lib/python3.11/dist-packages (from tensorflow) (1.6.3)\n",
            "Requirement already satisfied: flatbuffers>=24.3.25 in /usr/local/lib/python3.11/dist-packages (from tensorflow) (25.2.10)\n",
            "Requirement already satisfied: gast!=0.5.0,!=0.5.1,!=0.5.2,>=0.2.1 in /usr/local/lib/python3.11/dist-packages (from tensorflow) (0.6.0)\n",
            "Requirement already satisfied: google-pasta>=0.1.1 in /usr/local/lib/python3.11/dist-packages (from tensorflow) (0.2.0)\n",
            "Requirement already satisfied: libclang>=13.0.0 in /usr/local/lib/python3.11/dist-packages (from tensorflow) (18.1.1)\n",
            "Requirement already satisfied: opt-einsum>=2.3.2 in /usr/local/lib/python3.11/dist-packages (from tensorflow) (3.4.0)\n",
            "Requirement already satisfied: packaging in /usr/local/lib/python3.11/dist-packages (from tensorflow) (24.2)\n",
            "Requirement already satisfied: protobuf!=4.21.0,!=4.21.1,!=4.21.2,!=4.21.3,!=4.21.4,!=4.21.5,<6.0.0dev,>=3.20.3 in /usr/local/lib/python3.11/dist-packages (from tensorflow) (5.29.4)\n",
            "Requirement already satisfied: setuptools in /usr/local/lib/python3.11/dist-packages (from tensorflow) (75.2.0)\n",
            "Requirement already satisfied: six>=1.12.0 in /usr/local/lib/python3.11/dist-packages (from tensorflow) (1.17.0)\n",
            "Requirement already satisfied: termcolor>=1.1.0 in /usr/local/lib/python3.11/dist-packages (from tensorflow) (3.1.0)\n",
            "Requirement already satisfied: typing-extensions>=3.6.6 in /usr/local/lib/python3.11/dist-packages (from tensorflow) (4.13.2)\n",
            "Requirement already satisfied: wrapt>=1.11.0 in /usr/local/lib/python3.11/dist-packages (from tensorflow) (1.17.2)\n",
            "Requirement already satisfied: grpcio<2.0,>=1.24.3 in /usr/local/lib/python3.11/dist-packages (from tensorflow) (1.71.0)\n",
            "Requirement already satisfied: tensorboard<2.19,>=2.18 in /usr/local/lib/python3.11/dist-packages (from tensorflow) (2.18.0)\n",
            "Requirement already satisfied: keras>=3.5.0 in /usr/local/lib/python3.11/dist-packages (from tensorflow) (3.8.0)\n",
            "Requirement already satisfied: numpy<2.1.0,>=1.26.0 in /usr/local/lib/python3.11/dist-packages (from tensorflow) (2.0.2)\n",
            "Requirement already satisfied: h5py>=3.11.0 in /usr/local/lib/python3.11/dist-packages (from tensorflow) (3.13.0)\n",
            "Requirement already satisfied: ml-dtypes<0.5.0,>=0.4.0 in /usr/local/lib/python3.11/dist-packages (from tensorflow) (0.4.1)\n",
            "Requirement already satisfied: tensorflow-io-gcs-filesystem>=0.23.1 in /usr/local/lib/python3.11/dist-packages (from tensorflow) (0.37.1)\n",
            "Requirement already satisfied: wheel<1.0,>=0.23.0 in /usr/local/lib/python3.11/dist-packages (from astunparse>=1.6.0->tensorflow) (0.45.1)\n",
            "Requirement already satisfied: rich in /usr/local/lib/python3.11/dist-packages (from keras>=3.5.0->tensorflow) (13.9.4)\n",
            "Requirement already satisfied: namex in /usr/local/lib/python3.11/dist-packages (from keras>=3.5.0->tensorflow) (0.0.9)\n",
            "Requirement already satisfied: optree in /usr/local/lib/python3.11/dist-packages (from keras>=3.5.0->tensorflow) (0.15.0)\n",
            "Requirement already satisfied: charset-normalizer<4,>=2 in /usr/local/lib/python3.11/dist-packages (from requests->quickdraw) (3.4.2)\n",
            "Requirement already satisfied: idna<4,>=2.5 in /usr/local/lib/python3.11/dist-packages (from requests->quickdraw) (3.10)\n",
            "Requirement already satisfied: urllib3<3,>=1.21.1 in /usr/local/lib/python3.11/dist-packages (from requests->quickdraw) (2.4.0)\n",
            "Requirement already satisfied: certifi>=2017.4.17 in /usr/local/lib/python3.11/dist-packages (from requests->quickdraw) (2025.4.26)\n",
            "Requirement already satisfied: markdown>=2.6.8 in /usr/local/lib/python3.11/dist-packages (from tensorboard<2.19,>=2.18->tensorflow) (3.8)\n",
            "Requirement already satisfied: tensorboard-data-server<0.8.0,>=0.7.0 in /usr/local/lib/python3.11/dist-packages (from tensorboard<2.19,>=2.18->tensorflow) (0.7.2)\n",
            "Requirement already satisfied: werkzeug>=1.0.1 in /usr/local/lib/python3.11/dist-packages (from tensorboard<2.19,>=2.18->tensorflow) (3.1.3)\n",
            "Requirement already satisfied: MarkupSafe>=2.1.1 in /usr/local/lib/python3.11/dist-packages (from werkzeug>=1.0.1->tensorboard<2.19,>=2.18->tensorflow) (3.0.2)\n",
            "Requirement already satisfied: markdown-it-py>=2.2.0 in /usr/local/lib/python3.11/dist-packages (from rich->keras>=3.5.0->tensorflow) (3.0.0)\n",
            "Requirement already satisfied: pygments<3.0.0,>=2.13.0 in /usr/local/lib/python3.11/dist-packages (from rich->keras>=3.5.0->tensorflow) (2.19.1)\n",
            "Requirement already satisfied: mdurl~=0.1 in /usr/local/lib/python3.11/dist-packages (from markdown-it-py>=2.2.0->rich->keras>=3.5.0->tensorflow) (0.1.2)\n",
            "Downloading quickdraw-1.0.0-py3-none-any.whl (11 kB)\n",
            "Building wheels for collected packages: ColabTurtle\n",
            "  Building wheel for ColabTurtle (setup.py) ... \u001b[?25l\u001b[?25hdone\n",
            "  Created wheel for ColabTurtle: filename=ColabTurtle-2.1.0-py3-none-any.whl size=7643 sha256=6f5ba089ebab87230ad959a4d42c239539bc336a0c188e0639f1edb8cce6db03\n",
            "  Stored in directory: /root/.cache/pip/wheels/f6/9e/81/137e7da25129474562d30f8660be599e5c8d79228cb747e5b9\n",
            "Successfully built ColabTurtle\n",
            "Installing collected packages: ColabTurtle, quickdraw\n",
            "Successfully installed ColabTurtle-2.1.0 quickdraw-1.0.0\n"
          ]
        }
      ],
      "source": [
        "!pip install quickdraw tensorflow ColabTurtle Pillow"
      ]
    },
    {
      "cell_type": "code",
      "source": [
        "import numpy as np\n",
        "import random\n",
        "from PIL import Image\n",
        "from quickdraw import QuickDrawDataGroup, QuickDrawData\n",
        "from keras import layers\n",
        "from keras import models\n",
        "import tensorflow as tf\n",
        "from tensorflow.keras.models import Sequential\n",
        "from tensorflow.keras.layers import Conv2D, MaxPooling2D, Flatten, Dense\n",
        "from ColabTurtle import *"
      ],
      "metadata": {
        "id": "Di-R_2qi9k_G"
      },
      "execution_count": 7,
      "outputs": []
    },
    {
      "cell_type": "code",
      "source": [
        "from google.colab import drive\n",
        "drive.mount('/content/drive')\n",
        "%cd \"/content/drive/MyDrive/파이썬 프로젝트 CTD\"\n",
        "!git clone https://github.com/SolNam-UI/CTD.git\n",
        "!git clone https://gist.github.com/8409b3feec20f159d8a50b0a811d3bca.git #Colab 환경에서 사용자가 그릴 수 있게 해주는 오픈소스\n",
        "%run 8409b3feec20f159d8a50b0a811d3bca/draw.py\n",
        "%cd \"/content/drive/Mydrive/파이썬 프로젝트 CTD/storage\""
      ],
      "metadata": {
        "id": "WyL0F4gA_ACW",
        "colab": {
          "base_uri": "https://localhost:8080/"
        },
        "outputId": "d2d545b8-c99f-4892-b7cd-cfb0fbca40de",
        "collapsed": true
      },
      "execution_count": 4,
      "outputs": [
        {
          "output_type": "stream",
          "name": "stdout",
          "text": [
            "Mounted at /content/drive\n",
            "[Errno 2] No such file or directory: '/content/drive/MyDrive/파이썬 프로젝트 CTD'\n",
            "/content\n",
            "Cloning into 'CTD'...\n",
            "remote: Enumerating objects: 24, done.\u001b[K\n",
            "remote: Counting objects: 100% (24/24), done.\u001b[K\n",
            "remote: Compressing objects: 100% (22/22), done.\u001b[K\n",
            "remote: Total 24 (delta 6), reused 0 (delta 0), pack-reused 0 (from 0)\u001b[K\n",
            "Receiving objects: 100% (24/24), 12.97 KiB | 12.97 MiB/s, done.\n",
            "Resolving deltas: 100% (6/6), done.\n",
            "Cloning into '8409b3feec20f159d8a50b0a811d3bca'...\n",
            "remote: Enumerating objects: 6, done.\u001b[K\n",
            "remote: Total 6 (delta 0), reused 0 (delta 0), pack-reused 6 (from 1)\u001b[K\n",
            "Receiving objects: 100% (6/6), done.\n",
            "Resolving deltas: 100% (1/1), done.\n",
            "[Errno 2] No such file or directory: '/content/drive/Mydrive/파이썬 프로젝트 CTD/storage'\n",
            "/content\n"
          ]
        }
      ]
    },
    {
      "cell_type": "code",
      "source": [
        "from google.colab import drive\n",
        "drive.mount('/content/drive')"
      ],
      "metadata": {
        "id": "CagdX-FrdF6q",
        "colab": {
          "base_uri": "https://localhost:8080/"
        },
        "outputId": "28385268-5f56-418b-f08d-df0305a6c5ff"
      },
      "execution_count": 5,
      "outputs": [
        {
          "output_type": "stream",
          "name": "stdout",
          "text": [
            "Drive already mounted at /content/drive; to attempt to forcibly remount, call drive.mount(\"/content/drive\", force_remount=True).\n"
          ]
        }
      ]
    },
    {
      "cell_type": "code",
      "source": [],
      "metadata": {
        "id": "K_OkbxovRZpY"
      },
      "execution_count": null,
      "outputs": []
    },
    {
      "cell_type": "markdown",
      "source": [
        "Turtle로 사용자가 그림 그리게 하기 (동렬)"
      ],
      "metadata": {
        "id": "9sUTnh1z2aFw"
      }
    },
    {
      "cell_type": "code",
      "source": [
        "import turtle\n",
        "import tkinter\n",
        "from tkinter import filedialog, messagebox\n",
        "from PIL import Image # cmd에서 (pip install Pillow) 을 통해 라이브러리 설치 후 사용 가능\n",
        "import os\n",
        "\n",
        "def turtle_mouse_drawing():\n",
        "\n",
        "    window_for_turtle_drawing = tkinter.Tk()\n",
        "    window_for_turtle_drawing.title(\"터틀을 활용한 마우스로 그림 그리기 창\")\n",
        "    window_for_turtle_drawing.geometry(\"1000x800\")\n",
        "\n",
        "    canvas_for_drawing = tkinter.Canvas(window_for_turtle_drawing, width=1000, height=800, bg=\"white\")\n",
        "    canvas_for_drawing.pack() #윈도우 창에 맞게 canvas 생성\n",
        "\n",
        "    screen_for_turtle = turtle.TurtleScreen(canvas_for_drawing)\n",
        "    screen_for_turtle.tracer(0) #터틀 스크린 생성\n",
        "\n",
        "    drawing_turtle = turtle.RawTurtle(screen_for_turtle)\n",
        "    drawing_turtle.speed(0)\n",
        "    drawing_turtle.penup()\n",
        "\n",
        "    drawing = False #마우스 드래그 여부 나타내기\n",
        "\n",
        "    def start_drawing_with_turtle(event):\n",
        "\n",
        "        nonlocal drawing\n",
        "        drawing = True\n",
        "        drawing_turtle.penup()\n",
        "        drawing_turtle.goto(event.x - 500, 400 - event.y) #tkinterface 내의 좌표를 Turtle 좌표로 변환하기\n",
        "        drawing_turtle.pendown()\n",
        "\n",
        "    def draw_change(event):\n",
        "\n",
        "        if drawing:\n",
        "\n",
        "            drawing_turtle.goto(event.x - 500, 400 - event.y)\n",
        "            screen_for_turtle.update()\n",
        "\n",
        "    def stop_drawing(event):\n",
        "\n",
        "        nonlocal drawing\n",
        "        drawing = False\n",
        "        drawing_turtle.penup()\n",
        "\n",
        "    def save_turtle_drawing_as_gif_file():\n",
        "\n",
        "        file_path = filedialog.asksaveasfilename(\n",
        "\n",
        "            default_extension=\".gif\", # 기본 파일을 .gif 형식으로 지정\n",
        "            file_type= [(\"GIF files\", \"*.gif\"), (\"All files\", \"*.*\")],\n",
        "            title=\"그림을 GIF 파일로 저장\"\n",
        "\n",
        "        )\n",
        "\n",
        "        if file_path:\n",
        "\n",
        "            try:\n",
        "\n",
        "                try_ps_file = \"try_drawing.ps\"\n",
        "                canvas_for_drawing.postscript(file = try_ps_file, colormode='color')\n",
        "\n",
        "                done_image = Image.open(try_ps_file)\n",
        "                done_image.save(file_path, \"gif\")\n",
        "\n",
        "                os.remove(try_ps_file)\n",
        "\n",
        "                massagebox.showinfo(\"저장이 완료되었습니다\", f\"해당 그림이 '{file_path}' 에 GIF 형식의 파일로 저장되었습니다.\")\n",
        "\n",
        "            except Exception as error:\n",
        "\n",
        "                messagebox.showerror(\"저장 중에 오류가 발생했습니다\", f\"그림을 저장하는 중에 오류가 발생했습니다 : {error}\")\n",
        "\n",
        "\n",
        "\n",
        "\n",
        "    canvas_for_drawing.bind(\"<Button-1>\", start_drawing_with_turtle)\n",
        "    canvas_for_drawing.bind(\"<B1-Motion>\", draw_change)\n",
        "    canvas_for_drawing.bind(\"<ButtonRelease-1>\", stop_drawing)\n",
        "\n",
        "    save_button = tkinter.Button(window_for_turtle_drawing, text=\"GIF 형식의 파일로 저장\", command = save_turtle_drawing_as_gif_file)\n",
        "\n",
        "    save_button.pack(pady=10)\n",
        "\n",
        "\n",
        "    window_for_turtle_drawing.mainloop()\n",
        "\n",
        "if __name__ == \"__main__\":\n",
        "    draw(filename=\"my_drawing.png\", w=400, h=400, line_width=15)\n",
        "\n",
        "    # 나중에 수정해두기\n"
      ],
      "metadata": {
        "id": "vTLbNPY32Zyp",
        "colab": {
          "base_uri": "https://localhost:8080/",
          "height": 779
        },
        "outputId": "e3be0135-3afd-4e11-c5f1-a1729712ec9f"
      },
      "execution_count": null,
      "outputs": [
        {
          "output_type": "display_data",
          "data": {
            "text/plain": [
              "<IPython.core.display.HTML object>"
            ],
            "text/html": [
              "\n",
              "<canvas width=400 height=400></canvas>\n",
              "<button>Finish</button>\n",
              "<script>\n",
              "var canvas = document.querySelector('canvas')\n",
              "var ctx = canvas.getContext('2d')\n",
              "ctx.lineWidth = 15\n",
              "var button = document.querySelector('button')\n",
              "var mouse = {x: 0, y: 0}\n",
              "\n",
              "canvas.addEventListener('mousemove', function(e) {\n",
              "  mouse.x = e.pageX - this.offsetLeft\n",
              "  mouse.y = e.pageY - this.offsetTop\n",
              "})\n",
              "canvas.onmousedown = ()=>{\n",
              "  ctx.beginPath()\n",
              "  ctx.moveTo(mouse.x, mouse.y)\n",
              "  canvas.addEventListener('mousemove', onPaint)\n",
              "}\n",
              "canvas.onmouseup = ()=>{\n",
              "  canvas.removeEventListener('mousemove', onPaint)\n",
              "}\n",
              "var onPaint = ()=>{\n",
              "  ctx.lineTo(mouse.x, mouse.y)\n",
              "  ctx.stroke()\n",
              "}\n",
              "\n",
              "var data = new Promise(resolve=>{\n",
              "  button.onclick = ()=>{\n",
              "    resolve(canvas.toDataURL('image/png'))\n",
              "  }\n",
              "})\n",
              "</script>\n"
            ]
          },
          "metadata": {}
        },
        {
          "output_type": "error",
          "ename": "KeyboardInterrupt",
          "evalue": "",
          "traceback": [
            "\u001b[0;31m---------------------------------------------------------------------------\u001b[0m",
            "\u001b[0;31mKeyboardInterrupt\u001b[0m                         Traceback (most recent call last)",
            "\u001b[0;32m<ipython-input-31-f4d32ce702b2>\u001b[0m in \u001b[0;36m<cell line: 0>\u001b[0;34m()\u001b[0m\n\u001b[1;32m     87\u001b[0m \u001b[0;34m\u001b[0m\u001b[0m\n\u001b[1;32m     88\u001b[0m \u001b[0;32mif\u001b[0m \u001b[0m__name__\u001b[0m \u001b[0;34m==\u001b[0m \u001b[0;34m\"__main__\"\u001b[0m\u001b[0;34m:\u001b[0m\u001b[0;34m\u001b[0m\u001b[0;34m\u001b[0m\u001b[0m\n\u001b[0;32m---> 89\u001b[0;31m     \u001b[0mdraw\u001b[0m\u001b[0;34m(\u001b[0m\u001b[0mfilename\u001b[0m\u001b[0;34m=\u001b[0m\u001b[0;34m\"my_drawing.png\"\u001b[0m\u001b[0;34m,\u001b[0m \u001b[0mw\u001b[0m\u001b[0;34m=\u001b[0m\u001b[0;36m400\u001b[0m\u001b[0;34m,\u001b[0m \u001b[0mh\u001b[0m\u001b[0;34m=\u001b[0m\u001b[0;36m400\u001b[0m\u001b[0;34m,\u001b[0m \u001b[0mline_width\u001b[0m\u001b[0;34m=\u001b[0m\u001b[0;36m15\u001b[0m\u001b[0;34m)\u001b[0m\u001b[0;34m\u001b[0m\u001b[0;34m\u001b[0m\u001b[0m\n\u001b[0m\u001b[1;32m     90\u001b[0m \u001b[0;34m\u001b[0m\u001b[0m\n\u001b[1;32m     91\u001b[0m     \u001b[0;31m# 나중에 수정해두기\u001b[0m\u001b[0;34m\u001b[0m\u001b[0;34m\u001b[0m\u001b[0m\n",
            "\u001b[0;32m/content/8409b3feec20f159d8a50b0a811d3bca/draw.py\u001b[0m in \u001b[0;36mdraw\u001b[0;34m(filename, w, h, line_width)\u001b[0m\n\u001b[1;32m     40\u001b[0m \u001b[0;32mdef\u001b[0m \u001b[0mdraw\u001b[0m\u001b[0;34m(\u001b[0m\u001b[0mfilename\u001b[0m\u001b[0;34m=\u001b[0m\u001b[0;34m'drawing.png'\u001b[0m\u001b[0;34m,\u001b[0m \u001b[0mw\u001b[0m\u001b[0;34m=\u001b[0m\u001b[0;36m400\u001b[0m\u001b[0;34m,\u001b[0m \u001b[0mh\u001b[0m\u001b[0;34m=\u001b[0m\u001b[0;36m200\u001b[0m\u001b[0;34m,\u001b[0m \u001b[0mline_width\u001b[0m\u001b[0;34m=\u001b[0m\u001b[0;36m1\u001b[0m\u001b[0;34m)\u001b[0m\u001b[0;34m:\u001b[0m\u001b[0;34m\u001b[0m\u001b[0;34m\u001b[0m\u001b[0m\n\u001b[1;32m     41\u001b[0m   \u001b[0mdisplay\u001b[0m\u001b[0;34m(\u001b[0m\u001b[0mHTML\u001b[0m\u001b[0;34m(\u001b[0m\u001b[0mcanvas_html\u001b[0m \u001b[0;34m%\u001b[0m \u001b[0;34m(\u001b[0m\u001b[0mw\u001b[0m\u001b[0;34m,\u001b[0m \u001b[0mh\u001b[0m\u001b[0;34m,\u001b[0m \u001b[0mline_width\u001b[0m\u001b[0;34m)\u001b[0m\u001b[0;34m)\u001b[0m\u001b[0;34m)\u001b[0m\u001b[0;34m\u001b[0m\u001b[0;34m\u001b[0m\u001b[0m\n\u001b[0;32m---> 42\u001b[0;31m   \u001b[0mdata\u001b[0m \u001b[0;34m=\u001b[0m \u001b[0meval_js\u001b[0m\u001b[0;34m(\u001b[0m\u001b[0;34m\"data\"\u001b[0m\u001b[0;34m)\u001b[0m\u001b[0;34m\u001b[0m\u001b[0;34m\u001b[0m\u001b[0m\n\u001b[0m\u001b[1;32m     43\u001b[0m   \u001b[0mbinary\u001b[0m \u001b[0;34m=\u001b[0m \u001b[0mb64decode\u001b[0m\u001b[0;34m(\u001b[0m\u001b[0mdata\u001b[0m\u001b[0;34m.\u001b[0m\u001b[0msplit\u001b[0m\u001b[0;34m(\u001b[0m\u001b[0;34m','\u001b[0m\u001b[0;34m)\u001b[0m\u001b[0;34m[\u001b[0m\u001b[0;36m1\u001b[0m\u001b[0;34m]\u001b[0m\u001b[0;34m)\u001b[0m\u001b[0;34m\u001b[0m\u001b[0;34m\u001b[0m\u001b[0m\n\u001b[1;32m     44\u001b[0m   \u001b[0;32mwith\u001b[0m \u001b[0mopen\u001b[0m\u001b[0;34m(\u001b[0m\u001b[0mfilename\u001b[0m\u001b[0;34m,\u001b[0m \u001b[0;34m'wb'\u001b[0m\u001b[0;34m)\u001b[0m \u001b[0;32mas\u001b[0m \u001b[0mf\u001b[0m\u001b[0;34m:\u001b[0m\u001b[0;34m\u001b[0m\u001b[0;34m\u001b[0m\u001b[0m\n",
            "\u001b[0;32m/usr/local/lib/python3.11/dist-packages/google/colab/output/_js.py\u001b[0m in \u001b[0;36meval_js\u001b[0;34m(script, ignore_result, timeout_sec)\u001b[0m\n\u001b[1;32m     38\u001b[0m   \u001b[0;32mif\u001b[0m \u001b[0mignore_result\u001b[0m\u001b[0;34m:\u001b[0m\u001b[0;34m\u001b[0m\u001b[0;34m\u001b[0m\u001b[0m\n\u001b[1;32m     39\u001b[0m     \u001b[0;32mreturn\u001b[0m\u001b[0;34m\u001b[0m\u001b[0;34m\u001b[0m\u001b[0m\n\u001b[0;32m---> 40\u001b[0;31m   \u001b[0;32mreturn\u001b[0m \u001b[0m_message\u001b[0m\u001b[0;34m.\u001b[0m\u001b[0mread_reply_from_input\u001b[0m\u001b[0;34m(\u001b[0m\u001b[0mrequest_id\u001b[0m\u001b[0;34m,\u001b[0m \u001b[0mtimeout_sec\u001b[0m\u001b[0;34m)\u001b[0m\u001b[0;34m\u001b[0m\u001b[0;34m\u001b[0m\u001b[0m\n\u001b[0m\u001b[1;32m     41\u001b[0m \u001b[0;34m\u001b[0m\u001b[0m\n\u001b[1;32m     42\u001b[0m \u001b[0;34m\u001b[0m\u001b[0m\n",
            "\u001b[0;32m/usr/local/lib/python3.11/dist-packages/google/colab/_message.py\u001b[0m in \u001b[0;36mread_reply_from_input\u001b[0;34m(message_id, timeout_sec)\u001b[0m\n\u001b[1;32m     94\u001b[0m     \u001b[0mreply\u001b[0m \u001b[0;34m=\u001b[0m \u001b[0m_read_next_input_message\u001b[0m\u001b[0;34m(\u001b[0m\u001b[0;34m)\u001b[0m\u001b[0;34m\u001b[0m\u001b[0;34m\u001b[0m\u001b[0m\n\u001b[1;32m     95\u001b[0m     \u001b[0;32mif\u001b[0m \u001b[0mreply\u001b[0m \u001b[0;34m==\u001b[0m \u001b[0m_NOT_READY\u001b[0m \u001b[0;32mor\u001b[0m \u001b[0;32mnot\u001b[0m \u001b[0misinstance\u001b[0m\u001b[0;34m(\u001b[0m\u001b[0mreply\u001b[0m\u001b[0;34m,\u001b[0m \u001b[0mdict\u001b[0m\u001b[0;34m)\u001b[0m\u001b[0;34m:\u001b[0m\u001b[0;34m\u001b[0m\u001b[0;34m\u001b[0m\u001b[0m\n\u001b[0;32m---> 96\u001b[0;31m       \u001b[0mtime\u001b[0m\u001b[0;34m.\u001b[0m\u001b[0msleep\u001b[0m\u001b[0;34m(\u001b[0m\u001b[0;36m0.025\u001b[0m\u001b[0;34m)\u001b[0m\u001b[0;34m\u001b[0m\u001b[0;34m\u001b[0m\u001b[0m\n\u001b[0m\u001b[1;32m     97\u001b[0m       \u001b[0;32mcontinue\u001b[0m\u001b[0;34m\u001b[0m\u001b[0;34m\u001b[0m\u001b[0m\n\u001b[1;32m     98\u001b[0m     if (\n",
            "\u001b[0;31mKeyboardInterrupt\u001b[0m: "
          ]
        }
      ]
    },
    {
      "cell_type": "code",
      "source": [
        "# 그림 그리기\n",
        "def inputDrawing():\n",
        "    draw(filename=\"dd.png\", w=280, h=280, line_width=10)\n",
        "\n",
        "    # 사용자가 그린 이미지 전처리\n",
        "    img = Image.open(\"/content/dd.png\").resize((28, 28)).convert(\"L\")\n",
        "    imgTemp = np.array(img) / 255.0\n",
        "    inData = imgTemp.reshape(1, 28, 28, 1)\n",
        "\n",
        "    predict(inData)\n",
        "\n",
        "def predict(inData):\n",
        "    # 예측\n",
        "    prediction = model.predict(inData)\n",
        "    result = trainList[np.argmax(prediction)]\n",
        "    print(\"정답은: \", result + \"입니다.\")\n",
        "    if (result == goalImg) :\n",
        "        print(\"성공!\")\n",
        "    else:\n",
        "        print(\"실패 다시 그리세요!\")\n",
        "        inputDrawing()\n",
        "\n",
        "# 모델 정의\n",
        "model = models.Sequential()\n",
        "model.add(layers.Conv2D(32, (3, 3), activation = \"relu\", input_shape=(28, 28, 1)))\n",
        "model.add(layers.MaxPooling2D((2, 2)))\n",
        "model.add(layers.Flatten())\n",
        "model.add(layers.Dense(units = 64, activation = \"relu\"))\n",
        "model.compile(loss = \"sparse_categorical_crossentropy\", optimizer = \"adam\", metrics = [\"accuracy\"])\n",
        "\n",
        "# 이미지 리스트 로드\n",
        "trainList = QuickDrawData().drawing_names[:50]\n",
        "\n",
        "# 이미지 리스트에서 그릴 이미지 할당\n",
        "goalImg = trainList[int(random.randrange(0,49))]\n",
        "print(goalImg)\n",
        "\n",
        "# 이미지 학습\n",
        "trainImg, trainLabel = [], []\n",
        "for i, label in enumerate(trainList):\n",
        "    drawings = list(QuickDrawDataGroup(label).drawings)[:100]\n",
        "    for d in drawings:\n",
        "        img = d.image.resize((28, 28)).convert(\"L\")\n",
        "        img_array = np.array(img) / 255.0\n",
        "        trainImg.append(img_array)\n",
        "        trainLabel.append(i)\n",
        "\n",
        "trainImg = np.array(trainImg)\n",
        "trainImg = trainImg.reshape(-1, 28, 28, 1)\n",
        "\n",
        "trainLabel = np.array(trainLabel)\n",
        "\n",
        "# 모델 학습\n",
        "model.fit(trainImg, trainLabel, epochs=2, batch_size=32)\n",
        "\n",
        "inputDrawing()"
      ],
      "metadata": {
        "id": "2FBG_Njm2gw1",
        "colab": {
          "base_uri": "https://localhost:8080/",
          "height": 1000
        },
        "outputId": "0b37bd3d-1442-4cd5-c749-45b77a9a0808"
      },
      "execution_count": null,
      "outputs": [
        {
          "output_type": "stream",
          "name": "stdout",
          "text": [
            "axe\n",
            "loading aircraft carrier drawings\n",
            "load complete\n",
            "loading airplane drawings\n",
            "load complete\n",
            "loading alarm clock drawings\n",
            "load complete\n",
            "loading ambulance drawings\n",
            "load complete\n",
            "loading angel drawings\n",
            "load complete\n",
            "loading animal migration drawings\n",
            "load complete\n",
            "loading ant drawings\n",
            "load complete\n",
            "loading anvil drawings\n",
            "load complete\n",
            "loading apple drawings\n",
            "load complete\n",
            "loading arm drawings\n",
            "load complete\n",
            "loading asparagus drawings\n",
            "load complete\n",
            "loading axe drawings\n",
            "load complete\n",
            "loading backpack drawings\n",
            "load complete\n",
            "loading banana drawings\n",
            "load complete\n",
            "loading bandage drawings\n",
            "load complete\n",
            "loading barn drawings\n",
            "load complete\n",
            "loading baseball bat drawings\n",
            "load complete\n",
            "loading baseball drawings\n",
            "load complete\n",
            "loading basket drawings\n",
            "load complete\n",
            "loading basketball drawings\n",
            "load complete\n",
            "loading bat drawings\n",
            "load complete\n",
            "loading bathtub drawings\n",
            "load complete\n",
            "loading beach drawings\n",
            "load complete\n",
            "loading bear drawings\n",
            "load complete\n",
            "loading beard drawings\n",
            "load complete\n",
            "loading bed drawings\n",
            "load complete\n",
            "loading bee drawings\n",
            "load complete\n",
            "loading belt drawings\n",
            "load complete\n",
            "loading bench drawings\n",
            "load complete\n",
            "loading bicycle drawings\n",
            "load complete\n",
            "loading binoculars drawings\n",
            "load complete\n",
            "loading bird drawings\n",
            "load complete\n",
            "loading birthday cake drawings\n",
            "load complete\n",
            "loading blackberry drawings\n",
            "load complete\n",
            "loading blueberry drawings\n",
            "load complete\n",
            "loading book drawings\n",
            "load complete\n",
            "loading boomerang drawings\n",
            "load complete\n",
            "loading bottlecap drawings\n",
            "load complete\n",
            "loading bowtie drawings\n",
            "load complete\n",
            "loading bracelet drawings\n",
            "load complete\n",
            "loading brain drawings\n",
            "load complete\n",
            "loading bread drawings\n",
            "load complete\n",
            "loading bridge drawings\n",
            "load complete\n",
            "loading broccoli drawings\n",
            "load complete\n",
            "loading broom drawings\n",
            "load complete\n",
            "loading bucket drawings\n",
            "load complete\n",
            "loading bulldozer drawings\n",
            "load complete\n",
            "loading bus drawings\n",
            "load complete\n",
            "loading bush drawings\n",
            "load complete\n",
            "loading butterfly drawings\n",
            "load complete\n",
            "Epoch 1/2\n",
            "\u001b[1m157/157\u001b[0m \u001b[32m━━━━━━━━━━━━━━━━━━━━\u001b[0m\u001b[37m\u001b[0m \u001b[1m3s\u001b[0m 14ms/step - accuracy: 0.0174 - loss: 15.2976\n",
            "Epoch 2/2\n",
            "\u001b[1m157/157\u001b[0m \u001b[32m━━━━━━━━━━━━━━━━━━━━\u001b[0m\u001b[37m\u001b[0m \u001b[1m2s\u001b[0m 14ms/step - accuracy: 0.0157 - loss: 4.1589\n"
          ]
        },
        {
          "output_type": "display_data",
          "data": {
            "text/plain": [
              "<IPython.core.display.HTML object>"
            ],
            "text/html": [
              "\n",
              "<canvas width=280 height=280></canvas>\n",
              "<button>Finish</button>\n",
              "<script>\n",
              "var canvas = document.querySelector('canvas')\n",
              "var ctx = canvas.getContext('2d')\n",
              "ctx.lineWidth = 10\n",
              "var button = document.querySelector('button')\n",
              "var mouse = {x: 0, y: 0}\n",
              "\n",
              "canvas.addEventListener('mousemove', function(e) {\n",
              "  mouse.x = e.pageX - this.offsetLeft\n",
              "  mouse.y = e.pageY - this.offsetTop\n",
              "})\n",
              "canvas.onmousedown = ()=>{\n",
              "  ctx.beginPath()\n",
              "  ctx.moveTo(mouse.x, mouse.y)\n",
              "  canvas.addEventListener('mousemove', onPaint)\n",
              "}\n",
              "canvas.onmouseup = ()=>{\n",
              "  canvas.removeEventListener('mousemove', onPaint)\n",
              "}\n",
              "var onPaint = ()=>{\n",
              "  ctx.lineTo(mouse.x, mouse.y)\n",
              "  ctx.stroke()\n",
              "}\n",
              "\n",
              "var data = new Promise(resolve=>{\n",
              "  button.onclick = ()=>{\n",
              "    resolve(canvas.toDataURL('image/png'))\n",
              "  }\n",
              "})\n",
              "</script>\n"
            ]
          },
          "metadata": {}
        },
        {
          "output_type": "stream",
          "name": "stdout",
          "text": [
            "\u001b[1m1/1\u001b[0m \u001b[32m━━━━━━━━━━━━━━━━━━━━\u001b[0m\u001b[37m\u001b[0m \u001b[1m0s\u001b[0m 100ms/step\n",
            "정답은:  beard입니다.\n",
            "실패 다시 그리세요!\n"
          ]
        },
        {
          "output_type": "display_data",
          "data": {
            "text/plain": [
              "<IPython.core.display.HTML object>"
            ],
            "text/html": [
              "\n",
              "<canvas width=280 height=280></canvas>\n",
              "<button>Finish</button>\n",
              "<script>\n",
              "var canvas = document.querySelector('canvas')\n",
              "var ctx = canvas.getContext('2d')\n",
              "ctx.lineWidth = 10\n",
              "var button = document.querySelector('button')\n",
              "var mouse = {x: 0, y: 0}\n",
              "\n",
              "canvas.addEventListener('mousemove', function(e) {\n",
              "  mouse.x = e.pageX - this.offsetLeft\n",
              "  mouse.y = e.pageY - this.offsetTop\n",
              "})\n",
              "canvas.onmousedown = ()=>{\n",
              "  ctx.beginPath()\n",
              "  ctx.moveTo(mouse.x, mouse.y)\n",
              "  canvas.addEventListener('mousemove', onPaint)\n",
              "}\n",
              "canvas.onmouseup = ()=>{\n",
              "  canvas.removeEventListener('mousemove', onPaint)\n",
              "}\n",
              "var onPaint = ()=>{\n",
              "  ctx.lineTo(mouse.x, mouse.y)\n",
              "  ctx.stroke()\n",
              "}\n",
              "\n",
              "var data = new Promise(resolve=>{\n",
              "  button.onclick = ()=>{\n",
              "    resolve(canvas.toDataURL('image/png'))\n",
              "  }\n",
              "})\n",
              "</script>\n"
            ]
          },
          "metadata": {}
        }
      ]
    },
    {
      "cell_type": "markdown",
      "source": [
        "Turtle로 출력하기 (동렬)"
      ],
      "metadata": {
        "id": "dnizgr-v2hIi"
      }
    },
    {
      "cell_type": "code",
      "source": [],
      "metadata": {
        "id": "KAwY9frD2iFr",
        "colab": {
          "base_uri": "https://localhost:8080/",
          "height": 405
        },
        "outputId": "c8935b2a-6268-41d7-93f3-4d20050b777f",
        "collapsed": true
      },
      "execution_count": null,
      "outputs": [
        {
          "output_type": "error",
          "ename": "ModuleNotFoundError",
          "evalue": "No module named 'turtle2img'",
          "traceback": [
            "\u001b[0;31m---------------------------------------------------------------------------\u001b[0m",
            "\u001b[0;31mModuleNotFoundError\u001b[0m                       Traceback (most recent call last)",
            "\u001b[0;32m<ipython-input-30-bed24c6b2116>\u001b[0m in \u001b[0;36m<cell line: 0>\u001b[0;34m()\u001b[0m\n\u001b[1;32m      1\u001b[0m \u001b[0;31m# 1. turtle로 그림 그리기 및 저장\u001b[0m\u001b[0;34m\u001b[0m\u001b[0;34m\u001b[0m\u001b[0m\n\u001b[1;32m      2\u001b[0m \u001b[0;32mfrom\u001b[0m \u001b[0mturtle\u001b[0m \u001b[0;32mimport\u001b[0m \u001b[0;34m*\u001b[0m\u001b[0;34m\u001b[0m\u001b[0;34m\u001b[0m\u001b[0m\n\u001b[0;32m----> 3\u001b[0;31m \u001b[0;32mimport\u001b[0m \u001b[0mturtle2img\u001b[0m\u001b[0;34m\u001b[0m\u001b[0;34m\u001b[0m\u001b[0m\n\u001b[0m\u001b[1;32m      4\u001b[0m \u001b[0;34m\u001b[0m\u001b[0m\n\u001b[1;32m      5\u001b[0m \u001b[0mt\u001b[0m \u001b[0;34m=\u001b[0m \u001b[0mTurtle\u001b[0m\u001b[0;34m(\u001b[0m\u001b[0;34m)\u001b[0m\u001b[0;34m\u001b[0m\u001b[0;34m\u001b[0m\u001b[0m\n",
            "\u001b[0;31mModuleNotFoundError\u001b[0m: No module named 'turtle2img'",
            "",
            "\u001b[0;31m---------------------------------------------------------------------------\u001b[0;32m\nNOTE: If your import is failing due to a missing package, you can\nmanually install dependencies using either !pip or !apt.\n\nTo view examples of installing some common dependencies, click the\n\"Open Examples\" button below.\n\u001b[0;31m---------------------------------------------------------------------------\u001b[0m\n"
          ],
          "errorDetails": {
            "actions": [
              {
                "action": "open_url",
                "actionText": "Open Examples",
                "url": "/notebooks/snippets/importing_libraries.ipynb"
              }
            ]
          }
        }
      ]
    }
  ]
}